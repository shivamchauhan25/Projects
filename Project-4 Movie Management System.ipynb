{
 "cells": [
  {
   "cell_type": "code",
   "execution_count": null,
   "metadata": {},
   "outputs": [],
   "source": [
    "def singleMovie():\n",
    "    mname = input(\">>>Enter The Movie Name: \")\n",
    "    myear = input(\">>>Enter the Year of Releaze: \")\n",
    "    mrating = input(\">>>Rate the movie on 5* :\")\n",
    "    return [{'status': 1, 'movieData': [mname, myear, mrating]}]\n",
    "def addMovie():\n",
    "    movieData=[]\n",
    "    movieData.extend(singleMovie())\n",
    "    flag=True\n",
    "    while flag:\n",
    "        userchoice = input(\">>>Do you want to add more(y/n):\")\n",
    "        if (userchoice == 'y'):\n",
    "            movieData.extend(singleMovie())\n",
    "        elif (userchoice == 'n'):\n",
    "            flag=False\n",
    "    return movieData\n",
    "#main Program\n",
    "print(\"---Movie Management System---\")\n",
    "flag=True\n",
    "movieList=[]\n",
    "while flag:\n",
    "    print(\"--------------------------------------------\")\n",
    "    print(\"Press 'A' to Add a new Movie:\\nPress 'V' to Display All Movies:\\nPress 'Q' to Quit the Application:\")\n",
    "    mainMenuOption=input(\"Enter Your Option: \")\n",
    "    if(mainMenuOption=='q' or mainMenuOption=='Q'):\n",
    "        flag=False\n",
    "        print(\">>>Thank You!!!\")\n",
    "    elif(mainMenuOption=='a' or mainMenuOption=='A'):\n",
    "        movieList.extend([addMovie()])\n",
    "    elif(mainMenuOption=='v' or mainMenuOption=='V'):\n",
    "        for movie in movieList[0]:\n",
    "            print(\"Name of the Movie: \"+movie['movieData'][0],\"\\nRelease Date:\"+movie['movieData'][1],\"\\nRating:\"+movie['movieData'][2])\n",
    "    else:\n",
    "        print(\">>>Invalid Option!!! Please Try Again!!!\")"
   ]
  },
  {
   "cell_type": "code",
   "execution_count": null,
   "metadata": {},
   "outputs": [],
   "source": []
  },
  {
   "cell_type": "code",
   "execution_count": null,
   "metadata": {},
   "outputs": [],
   "source": []
  },
  {
   "cell_type": "code",
   "execution_count": null,
   "metadata": {},
   "outputs": [],
   "source": []
  },
  {
   "cell_type": "code",
   "execution_count": null,
   "metadata": {},
   "outputs": [],
   "source": []
  },
  {
   "cell_type": "code",
   "execution_count": null,
   "metadata": {},
   "outputs": [],
   "source": []
  },
  {
   "cell_type": "code",
   "execution_count": null,
   "metadata": {},
   "outputs": [],
   "source": []
  },
  {
   "cell_type": "code",
   "execution_count": null,
   "metadata": {},
   "outputs": [],
   "source": []
  },
  {
   "cell_type": "code",
   "execution_count": null,
   "metadata": {},
   "outputs": [],
   "source": []
  },
  {
   "cell_type": "code",
   "execution_count": null,
   "metadata": {},
   "outputs": [],
   "source": []
  },
  {
   "cell_type": "code",
   "execution_count": null,
   "metadata": {},
   "outputs": [],
   "source": []
  },
  {
   "cell_type": "code",
   "execution_count": null,
   "metadata": {},
   "outputs": [],
   "source": []
  }
 ],
 "metadata": {
  "kernelspec": {
   "display_name": "Python 3",
   "language": "python",
   "name": "python3"
  },
  "language_info": {
   "codemirror_mode": {
    "name": "ipython",
    "version": 3
   },
   "file_extension": ".py",
   "mimetype": "text/x-python",
   "name": "python",
   "nbconvert_exporter": "python",
   "pygments_lexer": "ipython3",
   "version": "3.6.8"
  }
 },
 "nbformat": 4,
 "nbformat_minor": 2
}
